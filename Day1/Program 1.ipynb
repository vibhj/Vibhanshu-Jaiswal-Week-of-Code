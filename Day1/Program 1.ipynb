{
 "cells": [
  {
   "cell_type": "code",
   "execution_count": 1,
   "metadata": {},
   "outputs": [
    {
     "name": "stdout",
     "output_type": "stream",
     "text": [
      "Enter your name : Vibhanshu Jaiswal\n",
      "Enter your branch : IT\n",
      "Enter your gender : Male\n",
      "Enter your College Name : ABES EC\n",
      "Enter your age : 21\n",
      "Name : Vibhanshu Jaiswal\n",
      "Branch : IT\n",
      "Gender : Male\n",
      "College : ABES EC\n",
      "Age : 21\n"
     ]
    }
   ],
   "source": [
    "a=input(\"Enter your name : \")\n",
    "b=input(\"Enter your branch : \")\n",
    "c=input(\"Enter your gender : \")\n",
    "d=input(\"Enter your College Name : \")\n",
    "e=int(input(\"Enter your age : \"))\n",
    "print(\"Name :\",a)\n",
    "print(\"Branch :\",b)\n",
    "print(\"Gender :\",c)\n",
    "print(\"College :\",d)\n",
    "print(\"Age :\",e)"
   ]
  },
  {
   "cell_type": "code",
   "execution_count": null,
   "metadata": {},
   "outputs": [],
   "source": []
  }
 ],
 "metadata": {
  "kernelspec": {
   "display_name": "Python 3",
   "language": "python",
   "name": "python3"
  },
  "language_info": {
   "codemirror_mode": {
    "name": "ipython",
    "version": 3
   },
   "file_extension": ".py",
   "mimetype": "text/x-python",
   "name": "python",
   "nbconvert_exporter": "python",
   "pygments_lexer": "ipython3",
   "version": "3.7.4"
  }
 },
 "nbformat": 4,
 "nbformat_minor": 2
}
