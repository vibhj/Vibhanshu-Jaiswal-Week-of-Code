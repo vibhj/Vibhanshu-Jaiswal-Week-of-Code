{
 "cells": [
  {
   "cell_type": "code",
   "execution_count": null,
   "metadata": {},
   "outputs": [
    {
     "name": "stdout",
     "output_type": "stream",
     "text": [
      "Score of player1:100\n",
      "Score of player2:120\n"
     ]
    }
   ],
   "source": [
    "p1=int(input(\"Score of player1:\"))\n",
    "p2=int(input(\"Score of player2:\"))\n",
    "p3=int(input(\"Score of player3:\"))\n",
    "print(\"Strike rate of p1\",(p1/60)*100)\n",
    "print(\"Strike rate of p2\",(p2/60)*100)\n",
    "print(\"Strike rate of p3\",(p3/60)*100)\n",
    "print(\"If player1 played 60 balls more ther score:\",p1*2)\n",
    "print(\"If player2 played 60 balls more ther score:\",p2*2)\n",
    "print(\"If player3 played 60 balls more ther score:\",p3*2)\n",
    "print(\"player1 hits sixes:\",p1//6)\n",
    "print(\"player2 hits sixes:\",p2//6)\n",
    "print(\"player3 hits sixes:\",p3//6)"
   ]
  },
  {
   "cell_type": "code",
   "execution_count": null,
   "metadata": {},
   "outputs": [],
   "source": []
  }
 ],
 "metadata": {
  "kernelspec": {
   "display_name": "Python 3",
   "language": "python",
   "name": "python3"
  },
  "language_info": {
   "codemirror_mode": {
    "name": "ipython",
    "version": 3
   },
   "file_extension": ".py",
   "mimetype": "text/x-python",
   "name": "python",
   "nbconvert_exporter": "python",
   "pygments_lexer": "ipython3",
   "version": "3.7.4"
  }
 },
 "nbformat": 4,
 "nbformat_minor": 2
}
