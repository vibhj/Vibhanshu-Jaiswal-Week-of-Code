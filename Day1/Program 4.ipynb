{
 "cells": [
  {
   "cell_type": "code",
   "execution_count": 1,
   "metadata": {},
   "outputs": [
    {
     "name": "stdout",
     "output_type": "stream",
     "text": [
      "Enter cost price200\n",
      "Enter selling price500\n",
      "Profit in percent: 150.0\n",
      "to increase the profit by 5% the selling price is: 515.0\n"
     ]
    }
   ],
   "source": [
    "cp=float(input(\"Enter cost price\"))\n",
    "sp=float(input(\"Enter selling price\"))\n",
    "profit=((sp-cp)/cp)*100\n",
    "print(\"Profit in percent:\",profit)\n",
    "increment=1.05*(sp-cp)+cp\n",
    "print(\"to increase the profit by 5% the selling price is:\",increment)"
   ]
  },
  {
   "cell_type": "code",
   "execution_count": null,
   "metadata": {},
   "outputs": [],
   "source": []
  }
 ],
 "metadata": {
  "kernelspec": {
   "display_name": "Python 3",
   "language": "python",
   "name": "python3"
  },
  "language_info": {
   "codemirror_mode": {
    "name": "ipython",
    "version": 3
   },
   "file_extension": ".py",
   "mimetype": "text/x-python",
   "name": "python",
   "nbconvert_exporter": "python",
   "pygments_lexer": "ipython3",
   "version": "3.7.4"
  }
 },
 "nbformat": 4,
 "nbformat_minor": 2
}
