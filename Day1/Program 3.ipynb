{
 "cells": [
  {
   "cell_type": "code",
   "execution_count": 3,
   "metadata": {},
   "outputs": [
    {
     "name": "stdout",
     "output_type": "stream",
     "text": [
      "Enter any 1st no. : 5\n",
      "Enter any 2nd no. : 8\n",
      "Before swapping the no. is  5 & 8\n",
      "After swapping the no. is  8 & 5\n"
     ]
    }
   ],
   "source": [
    "a=int(input(\"Enter any 1st no. : \"))\n",
    "b=int(input(\"Enter any 2nd no. : \"))\n",
    "print(\"Before swapping the no. is \",a ,\"&\",b)\n",
    "a=a+b\n",
    "b=a-b\n",
    "a=a-b\n",
    "print(\"After swapping the no. is \",a ,\"&\",b)"
   ]
  },
  {
   "cell_type": "code",
   "execution_count": 4,
   "metadata": {},
   "outputs": [
    {
     "name": "stdout",
     "output_type": "stream",
     "text": [
      "Enter any 1st no. : 5\n",
      "Enter any 2nd no. : 8\n",
      "Before swapping the no. is  5 & 8\n",
      "After swapping the no. is  8 & 5\n"
     ]
    }
   ],
   "source": [
    "a=int(input(\"Enter any 1st no. : \"))\n",
    "b=int(input(\"Enter any 2nd no. : \"))\n",
    "print(\"Before swapping the no. is \",a ,\"&\",b)\n",
    "(a,b)=(b,a)\n",
    "print(\"After swapping the no. is \",a ,\"&\",b)"
   ]
  },
  {
   "cell_type": "code",
   "execution_count": null,
   "metadata": {},
   "outputs": [],
   "source": []
  }
 ],
 "metadata": {
  "kernelspec": {
   "display_name": "Python 3",
   "language": "python",
   "name": "python3"
  },
  "language_info": {
   "codemirror_mode": {
    "name": "ipython",
    "version": 3
   },
   "file_extension": ".py",
   "mimetype": "text/x-python",
   "name": "python",
   "nbconvert_exporter": "python",
   "pygments_lexer": "ipython3",
   "version": "3.7.4"
  }
 },
 "nbformat": 4,
 "nbformat_minor": 2
}
