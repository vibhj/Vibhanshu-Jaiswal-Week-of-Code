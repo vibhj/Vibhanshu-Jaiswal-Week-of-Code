{
 "cells": [
  {
   "cell_type": "code",
   "execution_count": 9,
   "metadata": {},
   "outputs": [
    {
     "name": "stdout",
     "output_type": "stream",
     "text": [
      "Enter the size of list : 5\n",
      "Enter the weight : 1\n",
      "Enter the value : 100\n",
      "Enter the weight : 2\n",
      "Enter the value : 500\n",
      "Enter the weight : 3\n",
      "Enter the value : 400\n",
      "Enter the weight : 4\n",
      "Enter the value : 300\n",
      "Enter the weight : 5\n",
      "Enter the value : 200\n",
      "Enter the capacity : 5\n",
      "Maximum value:  900\n"
     ]
    }
   ],
   "source": [
    "#KnapSack Problem\n",
    "def knapSack(cap,l):\n",
    "    if cap==0 or len(l)==0:\n",
    "        return 0\n",
    "    if len(l)==1:\n",
    "        if l[0][0]>cap:\n",
    "            return 0\n",
    "        return l[0][1]\n",
    "    if l[0][0]>cap:\n",
    "        return knapSack(cap,l[1:])\n",
    "    return max(l[0][1]+knapSack(cap-l[0][0],l[1:]),knapSack(cap,l[1:]))\n",
    "\n",
    "s=int(input(\"Enter the size of list : \"))\n",
    "l1=[]\n",
    "for i in range(s):\n",
    "    wt=int(input(\"Enter the weight : \"))\n",
    "    val=int(input(\"Enter the value : \"))\n",
    "    l1.append((wt,val))\n",
    "c=int(input(\"Enter the capacity : \"))\n",
    "print(\"Maximum value: \",knapSack(c,l1))"
   ]
  },
  {
   "cell_type": "code",
   "execution_count": null,
   "metadata": {},
   "outputs": [],
   "source": []
  }
 ],
 "metadata": {
  "kernelspec": {
   "display_name": "Python 3",
   "language": "python",
   "name": "python3"
  },
  "language_info": {
   "codemirror_mode": {
    "name": "ipython",
    "version": 3
   },
   "file_extension": ".py",
   "mimetype": "text/x-python",
   "name": "python",
   "nbconvert_exporter": "python",
   "pygments_lexer": "ipython3",
   "version": "3.7.4"
  }
 },
 "nbformat": 4,
 "nbformat_minor": 2
}
