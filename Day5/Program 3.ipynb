{
 "cells": [
  {
   "cell_type": "code",
   "execution_count": 7,
   "metadata": {},
   "outputs": [
    {
     "name": "stdout",
     "output_type": "stream",
     "text": [
      "Enter the size of list : 5\n",
      "Enter the list element : 10 11 12 13 14 15\n",
      "Maximum stolen value from house is :  39\n"
     ]
    }
   ],
   "source": [
    "#Maximum possible stolen value from house\n",
    "def Stolen(l):\n",
    "    if len(l)==2:\n",
    "        return max(l)\n",
    "    if len(l)==1:\n",
    "        return l[0]\n",
    "    if len(l)==3:\n",
    "        return max(l[1],l[0]+Stolen(l[2:]))\n",
    "    return max(l[1]+Stolen(l[3:]),l[0]+Stolen(l[2:]))\n",
    "n=int(input(\"Enter the size of list : \"))\n",
    "l=list(map(int,input(\"Enter the list element : \").split()))\n",
    "print(\"Maximum stolen value from house is : \",Stolen(l))"
   ]
  },
  {
   "cell_type": "code",
   "execution_count": null,
   "metadata": {},
   "outputs": [],
   "source": []
  }
 ],
 "metadata": {
  "kernelspec": {
   "display_name": "Python 3",
   "language": "python",
   "name": "python3"
  },
  "language_info": {
   "codemirror_mode": {
    "name": "ipython",
    "version": 3
   },
   "file_extension": ".py",
   "mimetype": "text/x-python",
   "name": "python",
   "nbconvert_exporter": "python",
   "pygments_lexer": "ipython3",
   "version": "3.7.4"
  }
 },
 "nbformat": 4,
 "nbformat_minor": 2
}
