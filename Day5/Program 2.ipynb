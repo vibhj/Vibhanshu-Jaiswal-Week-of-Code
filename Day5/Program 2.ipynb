{
 "cells": [
  {
   "cell_type": "code",
   "execution_count": 10,
   "metadata": {},
   "outputs": [
    {
     "name": "stdout",
     "output_type": "stream",
     "text": [
      "Enter the size of list : 5\n",
      "Enter the elements in list : 12 13 14 15 16 17\n",
      "After sorting The list is:  [17, 17, 17, 17, 17, 17]\n"
     ]
    }
   ],
   "source": [
    "#Replace every element with greatest element on right side\n",
    "def Replace(l):\n",
    "    for i in range(len(l)-1):\n",
    "        l[i]=max(l[i+1:])\n",
    "    return l\n",
    "\n",
    "n=int(input(\"Enter the size of list : \"))\n",
    "l=list(map(int,input(\"Enter the elements in list : \").split()))\n",
    "print(\"After sorting The list is: \",Replace(l))"
   ]
  },
  {
   "cell_type": "code",
   "execution_count": null,
   "metadata": {},
   "outputs": [],
   "source": []
  }
 ],
 "metadata": {
  "kernelspec": {
   "display_name": "Python 3",
   "language": "python",
   "name": "python3"
  },
  "language_info": {
   "codemirror_mode": {
    "name": "ipython",
    "version": 3
   },
   "file_extension": ".py",
   "mimetype": "text/x-python",
   "name": "python",
   "nbconvert_exporter": "python",
   "pygments_lexer": "ipython3",
   "version": "3.7.4"
  }
 },
 "nbformat": 4,
 "nbformat_minor": 2
}
