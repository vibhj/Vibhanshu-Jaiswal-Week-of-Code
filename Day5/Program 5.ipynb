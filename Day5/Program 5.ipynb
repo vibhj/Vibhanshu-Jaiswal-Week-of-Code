{
 "cells": [
  {
   "cell_type": "code",
   "execution_count": 3,
   "metadata": {},
   "outputs": [
    {
     "name": "stdout",
     "output_type": "stream",
     "text": [
      "Enter the size of list : 5\n",
      "Enter the element in the list : 10 13 14 16 19\n",
      "The customized array is:  [19, 13, 10, 14, 16]\n"
     ]
    }
   ],
   "source": [
    "#sort all the even no. in ascending and all the odd no. in descending order\n",
    "def even_odd(l):\n",
    "    even=[]\n",
    "    odd=[]\n",
    "    for i in l:\n",
    "        if (i%2==0):\n",
    "            even.append(i)\n",
    "        else:\n",
    "            odd.append(i)\n",
    "    return sorted(odd,reverse=True)+sorted(even)\n",
    "\n",
    "\n",
    "s=int(input(\"Enter the size of list : \"))\n",
    "l=list(map(int,input(\"Enter the element in the list : \").split()))\n",
    "print(\"The customized array is: \",even_odd(l))"
   ]
  },
  {
   "cell_type": "code",
   "execution_count": null,
   "metadata": {},
   "outputs": [],
   "source": []
  }
 ],
 "metadata": {
  "kernelspec": {
   "display_name": "Python 3",
   "language": "python",
   "name": "python3"
  },
  "language_info": {
   "codemirror_mode": {
    "name": "ipython",
    "version": 3
   },
   "file_extension": ".py",
   "mimetype": "text/x-python",
   "name": "python",
   "nbconvert_exporter": "python",
   "pygments_lexer": "ipython3",
   "version": "3.7.4"
  }
 },
 "nbformat": 4,
 "nbformat_minor": 2
}
