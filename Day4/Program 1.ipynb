{
 "cells": [
  {
   "cell_type": "code",
   "execution_count": 2,
   "metadata": {},
   "outputs": [
    {
     "name": "stdout",
     "output_type": "stream",
     "text": [
      "Enter list elements:5 4 8 7 6 1 5 4\n",
      "count occurance of 5\n",
      "ocurrence of element is: 2\n"
     ]
    }
   ],
   "source": [
    "#Occurence of an element in a tuple\n",
    "l=list(map(str,input(\"Enter list elements:\").split()))\n",
    "tup=tuple(l)\n",
    "ele=input(\"count occurance of \")\n",
    "print(\"ocurrence of an element is:\",tup.count(ele))"
   ]
  },
  {
   "cell_type": "code",
   "execution_count": null,
   "metadata": {},
   "outputs": [],
   "source": []
  }
 ],
 "metadata": {
  "kernelspec": {
   "display_name": "Python 3",
   "language": "python",
   "name": "python3"
  },
  "language_info": {
   "codemirror_mode": {
    "name": "ipython",
    "version": 3
   },
   "file_extension": ".py",
   "mimetype": "text/x-python",
   "name": "python",
   "nbconvert_exporter": "python",
   "pygments_lexer": "ipython3",
   "version": "3.7.4"
  }
 },
 "nbformat": 4,
 "nbformat_minor": 2
}
