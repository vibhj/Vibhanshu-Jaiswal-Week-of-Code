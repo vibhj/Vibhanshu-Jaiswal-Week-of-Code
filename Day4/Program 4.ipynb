{
 "cells": [
  {
   "cell_type": "code",
   "execution_count": 2,
   "metadata": {},
   "outputs": [
    {
     "name": "stdout",
     "output_type": "stream",
     "text": [
      "Enter the size of dictionary : 5\n",
      "Enter the key elelment : a\n",
      "Enter the value in dictionary : 1\n",
      "Enter the key elelment : b\n",
      "Enter the value in dictionary : 2\n",
      "Enter the key elelment : c\n",
      "Enter the value in dictionary : 3\n",
      "Enter the key elelment : d\n",
      "Enter the value in dictionary : 4\n",
      "Enter the key elelment : e\n",
      "Enter the value in dictionary : 5\n",
      "After removing duplicate from dictionary :  {'a': 1, 'b': 2, 'c': 3, 'd': 4, 'e': 5}\n"
     ]
    }
   ],
   "source": [
    "#Remove duplicate value across dictionary value\n",
    "s=int(input(\"Enter the size of dictionary : \"))\n",
    "d={}\n",
    "for i in range(s):\n",
    "    key=input(\"Enter the key elelment : \")\n",
    "    value=int(input(\"Enter the value in dictionary : \"))\n",
    "    d[key]=value\n",
    "\n",
    "result={}\n",
    "for key,value in d.items():\n",
    "    if value not in result.values():\n",
    "        result[key]=value\n",
    "        \n",
    "print(\"After removing duplicate from dictionary : \",result)"
   ]
  },
  {
   "cell_type": "code",
   "execution_count": null,
   "metadata": {},
   "outputs": [],
   "source": []
  }
 ],
 "metadata": {
  "kernelspec": {
   "display_name": "Python 3",
   "language": "python",
   "name": "python3"
  },
  "language_info": {
   "codemirror_mode": {
    "name": "ipython",
    "version": 3
   },
   "file_extension": ".py",
   "mimetype": "text/x-python",
   "name": "python",
   "nbconvert_exporter": "python",
   "pygments_lexer": "ipython3",
   "version": "3.7.4"
  }
 },
 "nbformat": 4,
 "nbformat_minor": 2
}
