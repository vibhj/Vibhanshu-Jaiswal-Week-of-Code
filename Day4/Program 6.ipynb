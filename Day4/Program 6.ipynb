{
 "cells": [
  {
   "cell_type": "code",
   "execution_count": null,
   "metadata": {},
   "outputs": [
    {
     "name": "stdout",
     "output_type": "stream",
     "text": [
      "Enter the size of dictionary : 7\n",
      "Enter words in list : go\n",
      "Enter words in list : bat\n",
      "Enter words in list : me\n",
      "Enter words in list : eat\n",
      "Enter words in list : goal\n",
      "Enter words in list : boy\n",
      "Enter words in list : run\n",
      "Enter the size of array : 7\n",
      "Enter characters in array : e\n",
      "Enter characters in array : o\n"
     ]
    }
   ],
   "source": [
    "#Bonus Question\n",
    "s=int(input(\"Enter the size of dictionary : \"))\n",
    "dict=[]\n",
    "for i in range(s):\n",
    "    dict.append(input(\"Enter words in list : \"))\n",
    "a=[]\n",
    "res=[]\n",
    "s1=int(input(\"Enter the size of array : \"))\n",
    "for i in range(s1):\n",
    "    a.append(input(\"Enter characters in array : \"))\n",
    "for word in dict:\n",
    "    if set(word).issubset(set(a)):\n",
    "        res.append(word)\n",
    "\n",
    "print(\",\".join(res)+\".\")"
   ]
  },
  {
   "cell_type": "code",
   "execution_count": null,
   "metadata": {},
   "outputs": [],
   "source": []
  },
  {
   "cell_type": "code",
   "execution_count": null,
   "metadata": {},
   "outputs": [],
   "source": []
  }
 ],
 "metadata": {
  "kernelspec": {
   "display_name": "Python 3",
   "language": "python",
   "name": "python3"
  },
  "language_info": {
   "codemirror_mode": {
    "name": "ipython",
    "version": 3
   },
   "file_extension": ".py",
   "mimetype": "text/x-python",
   "name": "python",
   "nbconvert_exporter": "python",
   "pygments_lexer": "ipython3",
   "version": "3.7.4"
  }
 },
 "nbformat": 4,
 "nbformat_minor": 2
}
