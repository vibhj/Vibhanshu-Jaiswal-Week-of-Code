{
 "cells": [
  {
   "cell_type": "code",
   "execution_count": 1,
   "metadata": {},
   "outputs": [
    {
     "name": "stdout",
     "output_type": "stream",
     "text": [
      "Enter total no of votes : 10\n",
      "Enter the name of candiadate : Vibh\n",
      "Enter the name of candiadate : Anshu\n",
      "Enter the name of candiadate : Shi\n",
      "Enter the name of candiadate : Vam\n",
      "Enter the name of candiadate : Shree\n",
      "Enter the name of candiadate : Yash\n",
      "Enter the name of candiadate : Mani\n",
      "Enter the name of candiadate : Utk\n",
      "Enter the name of candiadate : Venom\n",
      "Enter the name of candiadate : Reez\n",
      "The candidate who won the election is : Anshu\n"
     ]
    }
   ],
   "source": [
    "#Print the name of candidate received Maximum vote\n",
    "n=int(input(\"Enter total no of votes : \"))\n",
    "vote=[]\n",
    "for i in range(n):\n",
    "    vote.append(input(\"Enter the name of candiadate : \"))\n",
    "candidate=[]\n",
    "for name in vote:\n",
    "    candidate.append((name,vote.count(name)))\n",
    "candidate.sort(key=lambda x:x[0],reverse=True)\n",
    "candidate.sort(key=lambda x:x[1])\n",
    "print(\"The candidate who won the election is :\",candidate[-1][0])"
   ]
  },
  {
   "cell_type": "code",
   "execution_count": null,
   "metadata": {},
   "outputs": [],
   "source": []
  }
 ],
 "metadata": {
  "kernelspec": {
   "display_name": "Python 3",
   "language": "python",
   "name": "python3"
  },
  "language_info": {
   "codemirror_mode": {
    "name": "ipython",
    "version": 3
   },
   "file_extension": ".py",
   "mimetype": "text/x-python",
   "name": "python",
   "nbconvert_exporter": "python",
   "pygments_lexer": "ipython3",
   "version": "3.7.4"
  }
 },
 "nbformat": 4,
 "nbformat_minor": 2
}
