{
 "cells": [
  {
   "cell_type": "code",
   "execution_count": 4,
   "metadata": {},
   "outputs": [
    {
     "name": "stdout",
     "output_type": "stream",
     "text": [
      "Enter the size of tuple in list : 5\n",
      "Enter the size of List : 5\n",
      "Enter the element in tuple :  1\n",
      "Enter the element : 1 in Tuple :1\n",
      "Enter the element : 2 in Tuple :2\n",
      "Enter the element : 3 in Tuple :3\n",
      "Enter the element : 4 in Tuple :4\n",
      "Enter the element : 5 in Tuple :5\n",
      "Enter the element in tuple :  2\n",
      "Enter the element : 1 in Tuple :8\n",
      "Enter the element : 2 in Tuple :7\n",
      "Enter the element : 3 in Tuple :6\n",
      "Enter the element : 4 in Tuple :5\n",
      "Enter the element : 5 in Tuple :4\n",
      "Enter the element in tuple :  3\n",
      "Enter the element : 1 in Tuple :1\n",
      "Enter the element : 2 in Tuple :2\n",
      "Enter the element : 3 in Tuple :3\n",
      "Enter the element : 4 in Tuple :4\n",
      "Enter the element : 5 in Tuple :5\n",
      "Enter the element in tuple :  4\n",
      "Enter the element : 1 in Tuple :9\n",
      "Enter the element : 2 in Tuple :8\n",
      "Enter the element : 3 in Tuple :7\n",
      "Enter the element : 4 in Tuple :6\n",
      "Enter the element : 5 in Tuple :4\n",
      "Enter the element in tuple :  5\n",
      "Enter the element : 1 in Tuple :5\n",
      "Enter the element : 2 in Tuple :2\n",
      "Enter the element : 3 in Tuple :3\n",
      "Enter the element : 4 in Tuple :1\n",
      "Enter the element : 5 in Tuple :4\n",
      "Enter the nth index about which sort the list : 4\n",
      "Sorted list is : [(8, 7, 6, 5, 4), (9, 8, 7, 6, 4), (5, 2, 3, 1, 4), (1, 2, 3, 4, 5), (1, 2, 3, 4, 5)]\n"
     ]
    }
   ],
   "source": [
    "#sort tuple list by nth element of tuple\n",
    "s=int(input(\"Enter the size of tuple in list : \"))\n",
    "s1=int(input(\"Enter the size of List : \"))\n",
    "l=[]\n",
    "for i in range(s1):\n",
    "    print(\"Enter the element in tuple : \",i+1)\n",
    "    Tuple=[]\n",
    "    for j in range(s):\n",
    "        Tuple.append(int(input(\"Enter the element : \"+str(j+1)+\" in Tuple :\")))\n",
    "    l.append(tuple(Tuple))\n",
    "n=int(input(\"Enter the nth index about which sort the list : \"))\n",
    "l.sort(key=lambda x:x[n])\n",
    "print(\"Sorted list is :\",l)"
   ]
  }
 ],
 "metadata": {
  "kernelspec": {
   "display_name": "Python 3",
   "language": "python",
   "name": "python3"
  },
  "language_info": {
   "codemirror_mode": {
    "name": "ipython",
    "version": 3
   },
   "file_extension": ".py",
   "mimetype": "text/x-python",
   "name": "python",
   "nbconvert_exporter": "python",
   "pygments_lexer": "ipython3",
   "version": "3.7.4"
  }
 },
 "nbformat": 4,
 "nbformat_minor": 2
}
