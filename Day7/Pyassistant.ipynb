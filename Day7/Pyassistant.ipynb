{
 "cells": [
  {
   "cell_type": "code",
   "execution_count": 1,
   "metadata": {},
   "outputs": [
    {
     "name": "stdout",
     "output_type": "stream",
     "text": [
      "pygame 1.9.6\n",
      "Hello from the pygame community. https://www.pygame.org/contribute.html\n",
      "Starting Program..\n"
     ]
    },
    {
     "ename": "AttributeError",
     "evalue": "module 'speech_recognition' has no attribute 'Microphone'",
     "output_type": "error",
     "traceback": [
      "\u001b[1;31m---------------------------------------------------------------------------\u001b[0m",
      "\u001b[1;31mAttributeError\u001b[0m                            Traceback (most recent call last)",
      "\u001b[1;32m<ipython-input-1-c4780b89469b>\u001b[0m in \u001b[0;36m<module>\u001b[1;34m\u001b[0m\n\u001b[0;32m     75\u001b[0m \u001b[0mprint\u001b[0m\u001b[1;33m(\u001b[0m\u001b[1;34m\"Starting Program..\"\u001b[0m\u001b[1;33m)\u001b[0m\u001b[1;33m\u001b[0m\u001b[1;33m\u001b[0m\u001b[0m\n\u001b[0;32m     76\u001b[0m \u001b[0mspeak\u001b[0m\u001b[1;33m(\u001b[0m\u001b[1;34m\"Hi! Ted, what can I do for you?\"\u001b[0m\u001b[1;33m)\u001b[0m\u001b[1;33m\u001b[0m\u001b[1;33m\u001b[0m\u001b[0m\n\u001b[1;32m---> 77\u001b[1;33m \u001b[0mrecognizedText\u001b[0m \u001b[1;33m=\u001b[0m \u001b[0mrecognizeSpeech\u001b[0m\u001b[1;33m(\u001b[0m\u001b[1;33m)\u001b[0m \u001b[1;31m# DO speech recognition\u001b[0m\u001b[1;33m\u001b[0m\u001b[1;33m\u001b[0m\u001b[0m\n\u001b[0m\u001b[0;32m     78\u001b[0m \u001b[1;31m## data = \"what time is it\"\u001b[0m\u001b[1;33m\u001b[0m\u001b[1;33m\u001b[0m\u001b[1;33m\u001b[0m\u001b[0m\n\u001b[0;32m     79\u001b[0m \u001b[0mjarvis\u001b[0m\u001b[1;33m(\u001b[0m\u001b[0mrecognizedText\u001b[0m\u001b[1;33m)\u001b[0m \u001b[1;31m## Process the text\u001b[0m\u001b[1;33m\u001b[0m\u001b[1;33m\u001b[0m\u001b[0m\n",
      "\u001b[1;32m<ipython-input-1-c4780b89469b>\u001b[0m in \u001b[0;36mrecognizeSpeech\u001b[1;34m()\u001b[0m\n\u001b[0;32m     36\u001b[0m     \u001b[1;31m# Record Audio\u001b[0m\u001b[1;33m\u001b[0m\u001b[1;33m\u001b[0m\u001b[1;33m\u001b[0m\u001b[0m\n\u001b[0;32m     37\u001b[0m     \u001b[0mr\u001b[0m \u001b[1;33m=\u001b[0m \u001b[0msr\u001b[0m\u001b[1;33m.\u001b[0m\u001b[0mRecognizer\u001b[0m\u001b[1;33m(\u001b[0m\u001b[1;33m)\u001b[0m\u001b[1;33m\u001b[0m\u001b[1;33m\u001b[0m\u001b[0m\n\u001b[1;32m---> 38\u001b[1;33m     \u001b[1;32mwith\u001b[0m \u001b[0msr\u001b[0m\u001b[1;33m.\u001b[0m\u001b[0mMicrophone\u001b[0m\u001b[1;33m(\u001b[0m\u001b[1;33m)\u001b[0m \u001b[1;32mas\u001b[0m \u001b[0msource\u001b[0m\u001b[1;33m:\u001b[0m\u001b[1;33m\u001b[0m\u001b[1;33m\u001b[0m\u001b[0m\n\u001b[0m\u001b[0;32m     39\u001b[0m         \u001b[0mprint\u001b[0m\u001b[1;33m(\u001b[0m\u001b[1;34m\"Speak...\"\u001b[0m\u001b[1;33m)\u001b[0m\u001b[1;33m\u001b[0m\u001b[1;33m\u001b[0m\u001b[0m\n\u001b[0;32m     40\u001b[0m         \u001b[0maudio\u001b[0m \u001b[1;33m=\u001b[0m \u001b[0mr\u001b[0m\u001b[1;33m.\u001b[0m\u001b[0mlisten\u001b[0m\u001b[1;33m(\u001b[0m\u001b[0msource\u001b[0m\u001b[1;33m)\u001b[0m\u001b[1;33m\u001b[0m\u001b[1;33m\u001b[0m\u001b[0m\n",
      "\u001b[1;31mAttributeError\u001b[0m: module 'speech_recognition' has no attribute 'Microphone'"
     ]
    }
   ],
   "source": [
    "import webbrowser as wb\n",
    "import speech_recognition as sr\n",
    "from tkinter import *\n",
    "from time import ctime\n",
    "import time\n",
    "import os\n",
    "from gtts import gTTS\n",
    "import pygame\n",
    "from pygame import mixer\n",
    "## from threadpoolctl import threadpool_info\n",
    "\n",
    "def speak(audioString):\n",
    "    global x\n",
    "    b = audioString\n",
    "    if len(b) == 0: # do nothing\n",
    "        #w1 = Label(root, text=\"No input!\").pack()\n",
    "        return\n",
    "    tts = gTTS(text=b, lang='en-us')\n",
    "    tts.save(\"voice%s.mp3\"%(x))\n",
    "    # x+=1\n",
    "    pygame.init()\n",
    "    pygame.display.set_mode((2, 1))\n",
    "    mixer.music.load(\"voice%s.mp3\" % (x))\n",
    "    mixer.music.play(0)\n",
    "\n",
    "    x += 1\n",
    "\n",
    "    clock = pygame.time.Clock()\n",
    "    clock.tick(10)\n",
    "    while pygame.mixer.music.get_busy():\n",
    "        pygame.event.poll()\n",
    "        clock.tick(10)\n",
    "\n",
    "\n",
    "def recognizeSpeech():\n",
    "    # Record Audio\n",
    "    r = sr.Recognizer()\n",
    "    with sr.Microphone() as source:\n",
    "        print(\"Speak...\")\n",
    "        audio = r.listen(source)\n",
    "        print(\"heard...waiting for google to recogize audio\")\n",
    "    # Speech recognition using Google Speech Recognition\n",
    "    data = \"\"\n",
    "\n",
    "    try:\n",
    "        data = r.recognize_google(audio)\n",
    "        print(\"You said : \" + data )\n",
    "    except sr.UnknownValueError:\n",
    "        print(\"Google Speech Recognition could not understand audio\")\n",
    "    except sr.RequestError as e:\n",
    "        print(\"Could not request results from Google Speech Recognition service; {0}\".format(e))\n",
    "    return data\n",
    "\n",
    "\n",
    "def jarvis(data):\n",
    "    if \"how are you\" in data:\n",
    "        speak(\"I am fine\")\n",
    "\n",
    "    elif \"what time is it\" in data:\n",
    "        speak(ctime())\n",
    "\n",
    "    elif \"where is\" in data:\n",
    "        data = data.split(\" \")\n",
    "        location = data[2]\n",
    "        speak(\"Hold on vibhanshu, I will show you where \" + location + \" is.\")\n",
    "        wb.open_new_tab(\"https://www.google.nl/maps/place/\" + location + \"/&amp;\")\n",
    "    else :\n",
    "        speak(\",,,,,,,I did not get what you said !\")\n",
    "\n",
    "\n",
    "\n",
    "\n",
    "\n",
    "x=0\n",
    "print(\"Starting Program..\")\n",
    "speak(\"Hi! Ted, what can I do for you?\")\n",
    "recognizedText = recognizeSpeech() # DO speech recognition\n",
    "## data = \"what time is it\"\n",
    "jarvis(recognizedText) ## Process the text\n",
    "speak(\"Turning off the program.\")\n",
    "print(\"Run complete\")"
   ]
  },
  {
   "cell_type": "code",
   "execution_count": null,
   "metadata": {},
   "outputs": [],
   "source": []
  }
 ],
 "metadata": {
  "kernelspec": {
   "display_name": "Python 3",
   "language": "python",
   "name": "python3"
  },
  "language_info": {
   "codemirror_mode": {
    "name": "ipython",
    "version": 3
   },
   "file_extension": ".py",
   "mimetype": "text/x-python",
   "name": "python",
   "nbconvert_exporter": "python",
   "pygments_lexer": "ipython3",
   "version": "3.7.4"
  }
 },
 "nbformat": 4,
 "nbformat_minor": 2
}
