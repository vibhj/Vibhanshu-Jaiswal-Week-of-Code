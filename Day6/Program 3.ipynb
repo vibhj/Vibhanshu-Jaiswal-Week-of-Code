{
 "cells": [
  {
   "cell_type": "code",
   "execution_count": 5,
   "metadata": {},
   "outputs": [
    {
     "name": "stdout",
     "output_type": "stream",
     "text": [
      "Enter the size of the list : 5\n",
      "Enter the element in the list : 80 12 45 6 75\n",
      "smallest missing number is : 1\n"
     ]
    }
   ],
   "source": [
    "#Smallest positive no. missing from an unsorted list\n",
    "def missing(array):\n",
    "    m = max(array) \n",
    "    if m < 1: \n",
    "        return 1 \n",
    "    if len(array) == 1: \n",
    "        return 2 if array[0] == 1 else 1     \n",
    "    l = [0] * m \n",
    "    for i in range(len(array)): \n",
    "        if array[i] > 0: \n",
    "            if l[array[i] - 1] != 1: \n",
    "                l[array[i] - 1] = 1 \n",
    "    for i in range(len(l)): \n",
    "         if l[i] == 0:  \n",
    "            return i + 1\n",
    "    return i + 2\n",
    "\n",
    "s=int(input(\"Enter the size of the list : \"))\n",
    "l1=list(map(int,input(\"Enter the element in the list : \").split()))\n",
    "print(\"smallest missing number is :\",missing(l1))"
   ]
  },
  {
   "cell_type": "code",
   "execution_count": null,
   "metadata": {},
   "outputs": [],
   "source": []
  }
 ],
 "metadata": {
  "kernelspec": {
   "display_name": "Python 3",
   "language": "python",
   "name": "python3"
  },
  "language_info": {
   "codemirror_mode": {
    "name": "ipython",
    "version": 3
   },
   "file_extension": ".py",
   "mimetype": "text/x-python",
   "name": "python",
   "nbconvert_exporter": "python",
   "pygments_lexer": "ipython3",
   "version": "3.7.4"
  }
 },
 "nbformat": 4,
 "nbformat_minor": 2
}
