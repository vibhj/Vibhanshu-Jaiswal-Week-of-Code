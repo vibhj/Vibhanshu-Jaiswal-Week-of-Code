{
 "cells": [
  {
   "cell_type": "code",
   "execution_count": 7,
   "metadata": {},
   "outputs": [
    {
     "name": "stdout",
     "output_type": "stream",
     "text": [
      "Enter the string : ABAABCD\n",
      "Number of deletion to make pallindrome : 3\n"
     ]
    }
   ],
   "source": [
    "def longest_Palllindrome(s):\n",
    "    n=len(s)\n",
    "    l=[[0 for x in range(n)] for y in range(n)]\n",
    "    for i in range(n):\n",
    "        l[i][i]=1\n",
    "        for c in range(2, n+1): \n",
    "            for i in range(n - c + 1): \n",
    "                j = i + c - 1\n",
    "                if (s[i] == s[j] and c == 2): \n",
    "                    l[i][j] = 2\n",
    "                elif (s[i] == s[j]): \n",
    "                    l[i][j] = l[i + 1][j - 1] + 2\n",
    "                else: \n",
    "                    l[i][j] = max(l[i][j - 1],l[i + 1][j])\n",
    "    return l[0][n-1]\n",
    "\n",
    "def number_of_Deletion(s):\n",
    "    n=len(s)\n",
    "    l1=longest_Palllindrome(s)\n",
    "    return (n-l1)\n",
    "\n",
    "s=input(\"Enter the string : \")\n",
    "print(\"Number of deletion to make pallindrome :\",number_of_Deletion(s))"
   ]
  },
  {
   "cell_type": "code",
   "execution_count": null,
   "metadata": {},
   "outputs": [],
   "source": []
  }
 ],
 "metadata": {
  "kernelspec": {
   "display_name": "Python 3",
   "language": "python",
   "name": "python3"
  },
  "language_info": {
   "codemirror_mode": {
    "name": "ipython",
    "version": 3
   },
   "file_extension": ".py",
   "mimetype": "text/x-python",
   "name": "python",
   "nbconvert_exporter": "python",
   "pygments_lexer": "ipython3",
   "version": "3.7.4"
  }
 },
 "nbformat": 4,
 "nbformat_minor": 2
}
