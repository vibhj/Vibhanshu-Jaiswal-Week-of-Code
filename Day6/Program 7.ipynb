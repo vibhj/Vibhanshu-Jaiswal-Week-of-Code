{
 "cells": [
  {
   "cell_type": "code",
   "execution_count": 5,
   "metadata": {},
   "outputs": [
    {
     "name": "stdout",
     "output_type": "stream",
     "text": [
      "( 1,  2)\n",
      "(0, (1, 1, '( 0, % s)'), '% s')\n"
     ]
    }
   ],
   "source": [
    "# Ackermann Function\n",
    "def Ackermann(m, n, s =\"% s\"): \n",
    "    print(s % (\"(% d, % d)\" % (m, n))) \n",
    "    if m == 0: \n",
    "        return n + 1\n",
    "    if n == 0: \n",
    "        return (m - 1, 1, s) \n",
    "    n2 = (m, n - 1, s % (\"(% d, %% s)\" % (m - 1))) \n",
    "    return (m - 1, n2, s) \n",
    "print(Ackermann(1, 2)) \n"
   ]
  },
  {
   "cell_type": "code",
   "execution_count": null,
   "metadata": {},
   "outputs": [],
   "source": []
  }
 ],
 "metadata": {
  "kernelspec": {
   "display_name": "Python 3",
   "language": "python",
   "name": "python3"
  },
  "language_info": {
   "codemirror_mode": {
    "name": "ipython",
    "version": 3
   },
   "file_extension": ".py",
   "mimetype": "text/x-python",
   "name": "python",
   "nbconvert_exporter": "python",
   "pygments_lexer": "ipython3",
   "version": "3.7.4"
  }
 },
 "nbformat": 4,
 "nbformat_minor": 2
}
