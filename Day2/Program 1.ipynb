{
 "cells": [
  {
   "cell_type": "code",
   "execution_count": 1,
   "metadata": {},
   "outputs": [
    {
     "name": "stdout",
     "output_type": "stream",
     "text": [
      "Enter any no. : 5\n",
      "5 is Odd no.\n"
     ]
    }
   ],
   "source": [
    "#Even or Odd\n",
    "n=int(input(\"Enter any no. : \"))\n",
    "def Odd(n):\n",
    "    if n%2==0:\n",
    "        print(n,\"is Even no.\")\n",
    "    else:\n",
    "        print(n,\"is Odd no.\")\n",
    "Odd(n)"
   ]
  },
  {
   "cell_type": "code",
   "execution_count": 2,
   "metadata": {},
   "outputs": [
    {
     "name": "stdout",
     "output_type": "stream",
     "text": [
      "Enter any no. : 5\n",
      "5 is Prime no.\n"
     ]
    }
   ],
   "source": [
    "#Prime no.\n",
    "n=int(input(\"Enter any no. : \"))\n",
    "def Prime_no(n):\n",
    "    c=0\n",
    "    for i in range (1,n+1):\n",
    "        if n%i==0:\n",
    "            c=c+1\n",
    "    if (c==2):\n",
    "        print(n,\"is Prime no.\")\n",
    "    else:\n",
    "        print(n,\"is not a Prime no.\")\n",
    "Prime_no(n)"
   ]
  },
  {
   "cell_type": "code",
   "execution_count": 3,
   "metadata": {},
   "outputs": [
    {
     "name": "stdout",
     "output_type": "stream",
     "text": [
      "Enter any no. : 121\n",
      "121  is not an Armstrong No.\n"
     ]
    }
   ],
   "source": [
    "#Armstrong No.\n",
    "n=int(input(\"Enter any no. : \"))\n",
    "def Armstrong_no(n):\n",
    "    s=0\n",
    "    t=n\n",
    "    while (t>0):\n",
    "        a=t%10\n",
    "        s=s+a**3\n",
    "        t=t//10\n",
    "    if(n==s):\n",
    "        print(n,\" is an Armstrong No.\")\n",
    "    else:\n",
    "        print(n,\" is not an Armstrong No.\")\n",
    "Armstrong_no(n)"
   ]
  },
  {
   "cell_type": "code",
   "execution_count": 6,
   "metadata": {},
   "outputs": [
    {
     "name": "stdout",
     "output_type": "stream",
     "text": [
      "Enter any no. : 121\n",
      "121  is a Palindrome No.\n"
     ]
    }
   ],
   "source": [
    "#Palindrome no.\n",
    "n=int(input(\"Enter any no. : \"))\n",
    "def Palindrome_no(n):\n",
    "    s=0\n",
    "    t=n\n",
    "    while (t>0):\n",
    "        a=t%10\n",
    "        s=s*10+a\n",
    "        t=t//10\n",
    "    if(n==s):\n",
    "        print(n,\" is a Palindrome No.\")\n",
    "    else:\n",
    "        print(n,\" is not a Palindrome No.\")\n",
    "Palindrome_no(n)"
   ]
  },
  {
   "cell_type": "code",
   "execution_count": null,
   "metadata": {},
   "outputs": [],
   "source": []
  }
 ],
 "metadata": {
  "kernelspec": {
   "display_name": "Python 3",
   "language": "python",
   "name": "python3"
  },
  "language_info": {
   "codemirror_mode": {
    "name": "ipython",
    "version": 3
   },
   "file_extension": ".py",
   "mimetype": "text/x-python",
   "name": "python",
   "nbconvert_exporter": "python",
   "pygments_lexer": "ipython3",
   "version": "3.7.4"
  }
 },
 "nbformat": 4,
 "nbformat_minor": 2
}
