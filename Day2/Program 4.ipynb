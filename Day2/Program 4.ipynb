{
 "cells": [
  {
   "cell_type": "code",
   "execution_count": 3,
   "metadata": {},
   "outputs": [
    {
     "name": "stdout",
     "output_type": "stream",
     "text": [
      "Enter the Value of n : 5\n",
      "* * * * *  * * * * *\n",
      "* * * *      * * * *\n",
      "* * *          * * *\n",
      "* *              * *\n",
      "*                  *\n",
      "* *              * *\n",
      "* * *          * * *\n",
      "* * * *      * * * *\n",
      "* * * * *  * * * * *\n"
     ]
    }
   ],
   "source": [
    "n=int(input(\"Enter the Value of n : \"))\n",
    "for i in range(n):\n",
    "    print(\"* \"*(n - i)+\"    \"*i+\" *\"*(n - i))\n",
    "for i in range(2,n + 1):\n",
    "    print(\"* \" *i+\"    \"*(n - i)+\" *\"*i)"
   ]
  },
  {
   "cell_type": "code",
   "execution_count": null,
   "metadata": {},
   "outputs": [],
   "source": []
  }
 ],
 "metadata": {
  "kernelspec": {
   "display_name": "Python 3",
   "language": "python",
   "name": "python3"
  },
  "language_info": {
   "codemirror_mode": {
    "name": "ipython",
    "version": 3
   },
   "file_extension": ".py",
   "mimetype": "text/x-python",
   "name": "python",
   "nbconvert_exporter": "python",
   "pygments_lexer": "ipython3",
   "version": "3.7.4"
  }
 },
 "nbformat": 4,
 "nbformat_minor": 2
}
