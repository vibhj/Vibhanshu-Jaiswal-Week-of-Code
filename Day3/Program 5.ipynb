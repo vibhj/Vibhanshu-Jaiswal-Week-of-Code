{
 "cells": [
  {
   "cell_type": "code",
   "execution_count": 1,
   "metadata": {},
   "outputs": [
    {
     "name": "stdout",
     "output_type": "stream",
     "text": [
      "Enter the size of 1st list :5\n",
      "Enter the elements in the 1st list one by one :\n",
      "1\n",
      "2\n",
      "3\n",
      "4\n",
      "5\n",
      "Enter the size of 2nd list :5\n",
      "Enter the elements in the 2nd list one by one :\n",
      "5\n",
      "4\n",
      "8\n",
      "7\n",
      "6\n",
      "The intersection of both list is  ['4', '5']\n"
     ]
    }
   ],
   "source": [
    "n1=int(input(\"Enter the size of 1st list :\"))\n",
    "list1=[]\n",
    "print(\"Enter the elements in the 1st list one by one :\")\n",
    "for i in range (n1):\n",
    "    list1.append(input())\n",
    "n2=int(input(\"Enter the size of 2nd list :\"))\n",
    "list2=[]\n",
    "print(\"Enter the elements in the 2nd list one by one :\")\n",
    "for j in range (n2):\n",
    "    list2.append(input())\n",
    "list3=[]\n",
    "list3=list((set(list1)).intersection(set(list2)))\n",
    "print(\"The intersection of both list is \",list3)"
   ]
  },
  {
   "cell_type": "code",
   "execution_count": null,
   "metadata": {},
   "outputs": [],
   "source": []
  }
 ],
 "metadata": {
  "kernelspec": {
   "display_name": "Python 3",
   "language": "python",
   "name": "python3"
  },
  "language_info": {
   "codemirror_mode": {
    "name": "ipython",
    "version": 3
   },
   "file_extension": ".py",
   "mimetype": "text/x-python",
   "name": "python",
   "nbconvert_exporter": "python",
   "pygments_lexer": "ipython3",
   "version": "3.7.4"
  }
 },
 "nbformat": 4,
 "nbformat_minor": 2
}
