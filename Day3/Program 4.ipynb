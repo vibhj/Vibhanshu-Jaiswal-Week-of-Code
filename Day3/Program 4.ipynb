{
 "cells": [
  {
   "cell_type": "code",
   "execution_count": 5,
   "metadata": {},
   "outputs": [
    {
     "name": "stdout",
     "output_type": "stream",
     "text": [
      "Enter the size of list :5\n",
      "Enter any list one by one :\n",
      "11\n",
      "1\n",
      "2\n",
      "11\n",
      "1\n",
      "The list without duplicate character is  ['11', '1', '2']\n"
     ]
    }
   ],
   "source": [
    "n=int(input(\"Enter the size of list :\"))\n",
    "list=[]\n",
    "print(\"Enter any list one by one :\")\n",
    "for j in range (n):\n",
    "    list.append(input())\n",
    "duplicate_list=[]\n",
    "for i in list:\n",
    "    if i not in duplicate_list:\n",
    "        duplicate_list.append(i)\n",
    "print(\"The list without duplicate character is \",duplicate_list )"
   ]
  }
 ],
 "metadata": {
  "kernelspec": {
   "display_name": "Python 3",
   "language": "python",
   "name": "python3"
  },
  "language_info": {
   "codemirror_mode": {
    "name": "ipython",
    "version": 3
   },
   "file_extension": ".py",
   "mimetype": "text/x-python",
   "name": "python",
   "nbconvert_exporter": "python",
   "pygments_lexer": "ipython3",
   "version": "3.7.4"
  }
 },
 "nbformat": 4,
 "nbformat_minor": 2
}
