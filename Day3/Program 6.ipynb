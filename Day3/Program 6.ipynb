{
 "cells": [
  {
   "cell_type": "code",
   "execution_count": 4,
   "metadata": {},
   "outputs": [
    {
     "name": "stdout",
     "output_type": "stream",
     "text": [
      "Enter the size of list:5\n",
      "Enter the 5 elements of list:1\n",
      "The least integer which is not present in the list and also can not represented as the summation of sub elements is: 2\n"
     ]
    }
   ],
   "source": [
    "n=int(input(\"Enter the size of list:\"))\n",
    "li=list(map(int,input(\"Enter the {} elements of list:\".format(n)).split()))\n",
    "def Sum(Li,sz,sm):\n",
    "    smli=[]\n",
    "    if sz==1:\n",
    "        for x in Li:\n",
    "            smli.append(sm+x)\n",
    "        return smli\n",
    "    Li2=list(Li)\n",
    "    for x in Li:\n",
    "        Li2.remove(x)\n",
    "        smli.extend(Sum(Li2,sz-1,sm+x))\n",
    "    return smli\n",
    "\n",
    "def summation(Li,sz):\n",
    "    smli=list(Li)\n",
    "    for i in range(2,sz+1):\n",
    "        smli.extend(Sum(Li,i,0))\n",
    "    num=1\n",
    "    while True:\n",
    "        if num not in smli:\n",
    "            print(\"The least integer which is not present in the list and also can not represented as the summation of sub elements is:\",num)\n",
    "            break\n",
    "        num+=1\n",
    "summation(li,n)"
   ]
  },
  {
   "cell_type": "code",
   "execution_count": null,
   "metadata": {},
   "outputs": [],
   "source": []
  },
  {
   "cell_type": "code",
   "execution_count": null,
   "metadata": {},
   "outputs": [],
   "source": []
  }
 ],
 "metadata": {
  "kernelspec": {
   "display_name": "Python 3",
   "language": "python",
   "name": "python3"
  },
  "language_info": {
   "codemirror_mode": {
    "name": "ipython",
    "version": 3
   },
   "file_extension": ".py",
   "mimetype": "text/x-python",
   "name": "python",
   "nbconvert_exporter": "python",
   "pygments_lexer": "ipython3",
   "version": "3.7.4"
  }
 },
 "nbformat": 4,
 "nbformat_minor": 2
}
