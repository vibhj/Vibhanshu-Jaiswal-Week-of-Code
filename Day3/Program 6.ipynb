{
 "cells": [
  {
   "cell_type": "code",
   "execution_count": 10,
   "metadata": {},
   "outputs": [
    {
     "name": "stdout",
     "output_type": "stream",
     "text": [
      "Enter the size of list : 5\n",
      "Enter the 5 elements of list :1\n",
      "The least integer which is not present in the list and also can not represented as the summation of sub elements is: 2\n"
     ]
    }
   ],
   "source": [
    "n=int(input(\"Enter the size of list : \"))\n",
    "l=list(map(int,input(\"Enter the {} elements of list :\".format(n)).split()))\n",
    "def Sum(l1,s,sm):\n",
    "    smli=[]\n",
    "    if s==1:\n",
    "        for x in l1:\n",
    "            smli.append(sm+x)\n",
    "        return smli\n",
    "    l2=list(l1)\n",
    "    for x in l1:\n",
    "        l2.remove(x)\n",
    "        smli.extend(Sum(l2,s-1,sm+x))\n",
    "    return smli\n",
    "\n",
    "def summation(l1,s):\n",
    "    smli=list(l1)\n",
    "    for i in range(2,s+1):\n",
    "        smli.extend(Sum(l1,i,0))\n",
    "    num=1\n",
    "    while True:\n",
    "        if num not in smli:\n",
    "            print(\"The least integer which is not present in the list and also can not represented as the summation of sub elements is:\",num)\n",
    "            break\n",
    "        num+=1\n",
    "summation(l,n)"
   ]
  },
  {
   "cell_type": "code",
   "execution_count": null,
   "metadata": {},
   "outputs": [],
   "source": []
  }
 ],
 "metadata": {
  "kernelspec": {
   "display_name": "Python 3",
   "language": "python",
   "name": "python3"
  },
  "language_info": {
   "codemirror_mode": {
    "name": "ipython",
    "version": 3
   },
   "file_extension": ".py",
   "mimetype": "text/x-python",
   "name": "python",
   "nbconvert_exporter": "python",
   "pygments_lexer": "ipython3",
   "version": "3.7.4"
  }
 },
 "nbformat": 4,
 "nbformat_minor": 2
}
