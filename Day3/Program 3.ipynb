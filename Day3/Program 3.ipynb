{
 "cells": [
  {
   "cell_type": "code",
   "execution_count": 2,
   "metadata": {},
   "outputs": [
    {
     "name": "stdout",
     "output_type": "stream",
     "text": [
      "Enter any String :Vibhanshu Jaiswal\n",
      "The string without duplicate character is  Vibhansu Jwl\n"
     ]
    }
   ],
   "source": [
    "string=input(\"Enter any String :\")\n",
    "duplicate_string=\"\"\n",
    "for i in string:\n",
    "    if i not in duplicate_string:\n",
    "        duplicate_string=duplicate_string+i\n",
    "print(\"The string without duplicate character is \",duplicate_string )"
   ]
  }
 ],
 "metadata": {
  "kernelspec": {
   "display_name": "Python 3",
   "language": "python",
   "name": "python3"
  },
  "language_info": {
   "codemirror_mode": {
    "name": "ipython",
    "version": 3
   },
   "file_extension": ".py",
   "mimetype": "text/x-python",
   "name": "python",
   "nbconvert_exporter": "python",
   "pygments_lexer": "ipython3",
   "version": "3.7.4"
  }
 },
 "nbformat": 4,
 "nbformat_minor": 2
}
